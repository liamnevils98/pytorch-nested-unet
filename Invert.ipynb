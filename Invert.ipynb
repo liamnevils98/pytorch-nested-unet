{
 "cells": [
  {
   "cell_type": "code",
   "execution_count": 1,
   "metadata": {},
   "outputs": [],
   "source": [
    "from PIL import Image\n",
    "import numpy as np\n",
    "import os"
   ]
  },
  {
   "cell_type": "code",
   "execution_count": 2,
   "metadata": {},
   "outputs": [],
   "source": [
    "for i in os.listdir(\"Otsu_LowSN_Pred\"):\n",
    "    if i.endswith(\".png\"):\n",
    "        img=Image.open(\"Otsu_LowSN_Pred/\"+i)\n",
    "        img=np.invert(img)\n",
    "        img=Image.fromarray(img)\n",
    "        img.save(\"inv/Otsu_LowSN_Pred_inv/\"+i)"
   ]
  },
  {
   "cell_type": "code",
   "execution_count": 3,
   "metadata": {},
   "outputs": [],
   "source": [
    "for i in os.listdir(\"Otsu_HighSN_Pred\"):\n",
    "    if i.endswith(\".png\"):\n",
    "        img=Image.open(\"Otsu_HighSN_Pred/\"+i)\n",
    "        img=np.invert(img)\n",
    "        img=Image.fromarray(img)\n",
    "        img.save(\"inv/Otsu_HighSN_Pred_inv/\"+i)"
   ]
  },
  {
   "cell_type": "code",
   "execution_count": 4,
   "metadata": {},
   "outputs": [],
   "source": [
    "for i in os.listdir(\"Unet_LowSN_Pred\"):\n",
    "    if i.endswith(\".png\"):\n",
    "        img=Image.open(\"Unet_LowSN_Pred/\"+i)\n",
    "        img=np.invert(img)\n",
    "        img=Image.fromarray(img)\n",
    "        img.save(\"inv/Unet_LowSN_Pred_inv/\"+i)"
   ]
  },
  {
   "cell_type": "code",
   "execution_count": 8,
   "metadata": {},
   "outputs": [
    {
     "name": "stdout",
     "output_type": "stream",
     "text": [
      "1000\n"
     ]
    }
   ],
   "source": [
    "print(len(os.listdir(\"inv/Unet_LowSN_Pred_inv\")))"
   ]
  },
  {
   "cell_type": "code",
   "execution_count": 9,
   "metadata": {},
   "outputs": [
    {
     "name": "stdout",
     "output_type": "stream",
     "text": [
      "1001\n"
     ]
    }
   ],
   "source": [
    "print(len(os.listdir(\"inv/Otsu_LowSN_Pred_inv\")))"
   ]
  },
  {
   "cell_type": "code",
   "execution_count": 10,
   "metadata": {},
   "outputs": [
    {
     "name": "stdout",
     "output_type": "stream",
     "text": [
      "1001\n"
     ]
    }
   ],
   "source": [
    "print(len(os.listdir(\"inv/Otsu_HighSN_Pred_inv\")))"
   ]
  },
  {
   "cell_type": "code",
   "execution_count": null,
   "metadata": {},
   "outputs": [],
   "source": []
  }
 ],
 "metadata": {
  "kernelspec": {
   "display_name": "Python 3",
   "language": "python",
   "name": "python3"
  },
  "language_info": {
   "codemirror_mode": {
    "name": "ipython",
    "version": 3
   },
   "file_extension": ".py",
   "mimetype": "text/x-python",
   "name": "python",
   "nbconvert_exporter": "python",
   "pygments_lexer": "ipython3",
   "version": "3.8.5"
  }
 },
 "nbformat": 4,
 "nbformat_minor": 4
}
