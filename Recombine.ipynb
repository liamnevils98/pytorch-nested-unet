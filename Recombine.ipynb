{
 "cells": [
  {
   "cell_type": "code",
   "execution_count": 1,
   "metadata": {},
   "outputs": [],
   "source": [
    "from PIL import Image\n",
    "import os\n",
    "import numpy as np"
   ]
  },
  {
   "cell_type": "code",
   "execution_count": 19,
   "metadata": {},
   "outputs": [],
   "source": [
    "full_list = sorted(os.listdir(\"/lfs/Nevils/Results\"))\n",
    "start_list = []\n",
    "for i in full_list:\n",
    "    start_list.append(i.split(\"_C\")[0])\n",
    "start_list=sorted(set(start_list))"
   ]
  },
  {
   "cell_type": "code",
   "execution_count": 40,
   "metadata": {},
   "outputs": [],
   "source": [
    "pic_list=[]\n",
    "for i in start_list:\n",
    "    pic=[]\n",
    "    for j in full_list:\n",
    "        if j.startswith(i):\n",
    "            pic.append(j)\n",
    "    pic_list.append(pic)"
   ]
  },
  {
   "cell_type": "code",
   "execution_count": 49,
   "metadata": {},
   "outputs": [],
   "source": [
    "for pic in pic_list:\n",
    "    img=Image.new(\"L\",(1024,1024))\n",
    "    img.paste(Image.open('/lfs/Nevils/Results/'+pic[0]),(0,0))\n",
    "    img.paste(Image.open('/lfs/Nevils/Results/'+pic[1]),(256,512))\n",
    "    img.paste(Image.open('/lfs/Nevils/Results/'+pic[2]),(512,512))\n",
    "    img.paste(Image.open('/lfs/Nevils/Results/'+pic[3]),(768,512))\n",
    "    img.paste(Image.open('/lfs/Nevils/Results/'+pic[4]),(0,768))\n",
    "    img.paste(Image.open('/lfs/Nevils/Results/'+pic[5]),(256,768))\n",
    "    img.paste(Image.open('/lfs/Nevils/Results/'+pic[6]),(512,768))\n",
    "    img.paste(Image.open('/lfs/Nevils/Results/'+pic[7]),(768,768))\n",
    "    img.paste(Image.open('/lfs/Nevils/Results/'+pic[8]),(256,0))\n",
    "    img.paste(Image.open('/lfs/Nevils/Results/'+pic[9]),(512,0))\n",
    "    img.paste(Image.open('/lfs/Nevils/Results/'+pic[10]),(768,0))\n",
    "    img.paste(Image.open('/lfs/Nevils/Results/'+pic[11]),(0,256))\n",
    "    img.paste(Image.open('/lfs/Nevils/Results/'+pic[12]),(256,256))\n",
    "    img.paste(Image.open('/lfs/Nevils/Results/'+pic[13]),(512,256))\n",
    "    img.paste(Image.open('/lfs/Nevils/Results/'+pic[14]),(768,256))\n",
    "    img.paste(Image.open('/lfs/Nevils/Results/'+pic[15]),(0,512))\n",
    "    pic_name=pic[0].strip(\"_1.png\")+\".png\"\n",
    "    img.save(\"Results/\"+pic_name)\n"
   ]
  },
  {
   "cell_type": "code",
   "execution_count": 50,
   "metadata": {},
   "outputs": [
    {
     "data": {
      "text/plain": [
       "array([[  0, 255,   0, ...,   0,   0,   0],\n",
       "       [  0, 255, 255, ...,   0,   0,   0],\n",
       "       [255,   0,   0, ...,   0,   0,   0],\n",
       "       ...,\n",
       "       [  0,   0,   0, ...,   0,   0,   0],\n",
       "       [  0,   0,   0, ...,   0,   0,   0],\n",
       "       [  0,   0,   0, ...,   0,   0,   0]], dtype=uint8)"
      ]
     },
     "execution_count": 50,
     "metadata": {},
     "output_type": "execute_result"
    }
   ],
   "source": [
    "img=Image.open(\"Results/Tile_r000_c000_C.png\")\n",
    "np.asarray(img)"
   ]
  },
  {
   "cell_type": "code",
   "execution_count": 61,
   "metadata": {},
   "outputs": [
    {
     "data": {
      "image/png": "[encoded data removed]",
      "text/plain": [
       "<PIL.PngImagePlugin.PngImageFile image mode=L size=256x256 at 0x7FFA36DBF100>"
      ]
     },
     "execution_count": 61,
     "metadata": {},
     "output_type": "execute_result"
    }
   ],
   "source": [
    "Image.open(\"/lfs/Nevils/Unet/inputs/art_noise_NestedUNet_woDS/0/Tile_r012_c046_1.png\")"
   ]
  },
  {
   "cell_type": "code",
   "execution_count": null,
   "metadata": {},
   "outputs": [],
   "source": []
  }
 ],
 "metadata": {
  "kernelspec": {
   "display_name": "Python 3",
   "language": "python",
   "name": "python3"
  },
  "language_info": {
   "codemirror_mode": {
    "name": "ipython",
    "version": 3
   },
   "file_extension": ".py",
   "mimetype": "text/x-python",
   "name": "python",
   "nbconvert_exporter": "python",
   "pygments_lexer": "ipython3",
   "version": "3.8.5"
  }
 },
 "nbformat": 4,
 "nbformat_minor": 4
}
